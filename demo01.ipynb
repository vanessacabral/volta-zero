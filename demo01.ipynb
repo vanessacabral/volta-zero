{
 "cells": [
  {
   "cell_type": "code",
   "execution_count": 1,
   "id": "fb4162e1",
   "metadata": {},
   "outputs": [
    {
     "data": {
      "text/plain": [
       "2"
      ]
     },
     "execution_count": 1,
     "metadata": {},
     "output_type": "execute_result"
    }
   ],
   "source": [
    "1 + 1"
   ]
  },
  {
   "cell_type": "code",
   "execution_count": 2,
   "id": "66d38e3b",
   "metadata": {},
   "outputs": [
    {
     "data": {
      "text/plain": [
       "144"
      ]
     },
     "execution_count": 2,
     "metadata": {},
     "output_type": "execute_result"
    }
   ],
   "source": [
    "12 ** 2"
   ]
  },
  {
   "cell_type": "markdown",
   "id": "ef8032a2",
   "metadata": {},
   "source": [
    "Exemplo de texto em *Markdown* "
   ]
  },
  {
   "cell_type": "markdown",
   "id": "f77f16e5",
   "metadata": {},
   "source": [
    "# Exemplo de título\n",
    "Célula com título em *Markdown*"
   ]
  }
 ],
 "metadata": {
  "kernelspec": {
   "display_name": "Python 3 (ipykernel)",
   "language": "python",
   "name": "python3"
  },
  "language_info": {
   "codemirror_mode": {
    "name": "ipython",
    "version": 3
   },
   "file_extension": ".py",
   "mimetype": "text/x-python",
   "name": "python",
   "nbconvert_exporter": "python",
   "pygments_lexer": "ipython3",
   "version": "3.9.13"
  }
 },
 "nbformat": 4,
 "nbformat_minor": 5
}
